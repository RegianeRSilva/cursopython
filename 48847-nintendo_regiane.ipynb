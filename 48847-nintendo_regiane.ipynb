{
 "cells": [
  {
   "cell_type": "code",
   "execution_count": 1,
   "metadata": {},
   "outputs": [],
   "source": [
    "import pandas as pd # você pode trazer todas as importações para o início do seu código, para evitar repetição de importações de bibliotecas e economizar memória"
   ]
  },
  {
   "cell_type": "code",
   "execution_count": 2,
   "metadata": {},
   "outputs": [
    {
     "data": {
      "text/html": [
       "<div>\n",
       "<style scoped>\n",
       "    .dataframe tbody tr th:only-of-type {\n",
       "        vertical-align: middle;\n",
       "    }\n",
       "\n",
       "    .dataframe tbody tr th {\n",
       "        vertical-align: top;\n",
       "    }\n",
       "\n",
       "    .dataframe thead th {\n",
       "        text-align: right;\n",
       "    }\n",
       "</style>\n",
       "<table border=\"1\" class=\"dataframe\">\n",
       "  <thead>\n",
       "    <tr style=\"text-align: right;\">\n",
       "      <th></th>\n",
       "      <th>Unnamed: 0</th>\n",
       "      <th>https://www.kaggle.com/datasets/tayyarhussain/best-selling-game-consoles-of-all-time</th>\n",
       "    </tr>\n",
       "  </thead>\n",
       "  <tbody>\n",
       "    <tr>\n",
       "      <th>0</th>\n",
       "      <td>NaN</td>\n",
       "      <td>NaN</td>\n",
       "    </tr>\n",
       "    <tr>\n",
       "      <th>1</th>\n",
       "      <td>NaN</td>\n",
       "      <td>This dataset contains information about the be...</td>\n",
       "    </tr>\n",
       "    <tr>\n",
       "      <th>2</th>\n",
       "      <td>NaN</td>\n",
       "      <td>NaN</td>\n",
       "    </tr>\n",
       "    <tr>\n",
       "      <th>3</th>\n",
       "      <td>NaN</td>\n",
       "      <td>Console Name: The name of the game console.</td>\n",
       "    </tr>\n",
       "    <tr>\n",
       "      <th>4</th>\n",
       "      <td>NaN</td>\n",
       "      <td>Type: The type of console (e.g., home console,...</td>\n",
       "    </tr>\n",
       "  </tbody>\n",
       "</table>\n",
       "</div>"
      ],
      "text/plain": [
       "   Unnamed: 0  \\\n",
       "0         NaN   \n",
       "1         NaN   \n",
       "2         NaN   \n",
       "3         NaN   \n",
       "4         NaN   \n",
       "\n",
       "  https://www.kaggle.com/datasets/tayyarhussain/best-selling-game-consoles-of-all-time  \n",
       "0                                                NaN                                    \n",
       "1  This dataset contains information about the be...                                    \n",
       "2                                                NaN                                    \n",
       "3        Console Name: The name of the game console.                                    \n",
       "4  Type: The type of console (e.g., home console,...                                    "
      ]
     },
     "execution_count": 2,
     "metadata": {},
     "output_type": "execute_result"
    }
   ],
   "source": [
    "# import pandas as pd\n",
    "\n",
    "info = pd.read_excel(\"best-selling game consoles.xlsx\",\n",
    "                      sheet_name=\"info\")\n",
    "info.head()"
   ]
  },
  {
   "cell_type": "code",
   "execution_count": 11,
   "metadata": {},
   "outputs": [
    {
     "data": {
      "text/html": [
       "<div>\n",
       "<style scoped>\n",
       "    .dataframe tbody tr th:only-of-type {\n",
       "        vertical-align: middle;\n",
       "    }\n",
       "\n",
       "    .dataframe tbody tr th {\n",
       "        vertical-align: top;\n",
       "    }\n",
       "\n",
       "    .dataframe thead th {\n",
       "        text-align: right;\n",
       "    }\n",
       "</style>\n",
       "<table border=\"1\" class=\"dataframe\">\n",
       "  <thead>\n",
       "    <tr style=\"text-align: right;\">\n",
       "      <th></th>\n",
       "      <th>Console Name</th>\n",
       "      <th>Type</th>\n",
       "      <th>Company</th>\n",
       "      <th>Released Year</th>\n",
       "      <th>Discontinuation Year</th>\n",
       "      <th>Units sold (million)</th>\n",
       "      <th>Remarks</th>\n",
       "    </tr>\n",
       "  </thead>\n",
       "  <tbody>\n",
       "    <tr>\n",
       "      <th>0</th>\n",
       "      <td>PlayStation 2</td>\n",
       "      <td>Home</td>\n",
       "      <td>Sony</td>\n",
       "      <td>2000</td>\n",
       "      <td>2013</td>\n",
       "      <td>155.00</td>\n",
       "      <td>Final sales are greater than 155 million</td>\n",
       "    </tr>\n",
       "    <tr>\n",
       "      <th>1</th>\n",
       "      <td>Nintendo DS</td>\n",
       "      <td>Handheld</td>\n",
       "      <td>Nintendo</td>\n",
       "      <td>2004</td>\n",
       "      <td>2013</td>\n",
       "      <td>154.02</td>\n",
       "      <td>NaN</td>\n",
       "    </tr>\n",
       "    <tr>\n",
       "      <th>2</th>\n",
       "      <td>Nintendo Switch</td>\n",
       "      <td>Hybrid</td>\n",
       "      <td>Nintendo</td>\n",
       "      <td>2017</td>\n",
       "      <td>0</td>\n",
       "      <td>122.55</td>\n",
       "      <td>NaN</td>\n",
       "    </tr>\n",
       "    <tr>\n",
       "      <th>3</th>\n",
       "      <td>Game Boy</td>\n",
       "      <td>Handheld</td>\n",
       "      <td>Nintendo</td>\n",
       "      <td>1989</td>\n",
       "      <td>2003</td>\n",
       "      <td>64.42</td>\n",
       "      <td>The Game Boy (1989) and the Game Boy Color (19...</td>\n",
       "    </tr>\n",
       "    <tr>\n",
       "      <th>4</th>\n",
       "      <td>Game Boy Color</td>\n",
       "      <td>Handheld</td>\n",
       "      <td>Nintendo</td>\n",
       "      <td>1998</td>\n",
       "      <td>2003</td>\n",
       "      <td>44.06</td>\n",
       "      <td>NaN</td>\n",
       "    </tr>\n",
       "  </tbody>\n",
       "</table>\n",
       "</div>"
      ],
      "text/plain": [
       "      Console Name      Type   Company  Released Year  Discontinuation Year  \\\n",
       "0    PlayStation 2      Home      Sony           2000                  2013   \n",
       "1      Nintendo DS  Handheld  Nintendo           2004                  2013   \n",
       "2  Nintendo Switch    Hybrid  Nintendo           2017                     0   \n",
       "3         Game Boy  Handheld  Nintendo           1989                  2003   \n",
       "4   Game Boy Color  Handheld  Nintendo           1998                  2003   \n",
       "\n",
       "   Units sold (million)                                            Remarks  \n",
       "0                155.00           Final sales are greater than 155 million  \n",
       "1                154.02                                                NaN  \n",
       "2                122.55                                                NaN  \n",
       "3                 64.42  The Game Boy (1989) and the Game Boy Color (19...  \n",
       "4                 44.06                                                NaN  "
      ]
     },
     "execution_count": 11,
     "metadata": {},
     "output_type": "execute_result"
    }
   ],
   "source": [
    "# import pandas as pd\n",
    "\n",
    "consoles = pd.read_excel(\"best-selling game consoles.xlsx\",\n",
    "                      sheet_name=\"consoles\")\n",
    "consoles.head()"
   ]
  },
  {
   "cell_type": "code",
   "execution_count": 4,
   "metadata": {},
   "outputs": [
    {
     "data": {
      "text/plain": [
       "array(['PlayStation 2', 'Nintendo DS', 'Nintendo Switch', 'Game Boy',\n",
       "       'Game Boy Color', 'PlayStation 4', 'PlayStation', 'Wii',\n",
       "       'PlayStation 3', 'Xbox 360', 'Game Boy Advance',\n",
       "       'PlayStation Portable', 'Nintendo 3DS', 'NES/Famicom', 'Xbox One',\n",
       "       'SNES/Super Famicom', 'Game & Watch', 'Nintendo 64',\n",
       "       'Sega Genesis/Mega Drive', 'PlayStation 5', 'Atari 2600', 'Xbox',\n",
       "       'GameCube', 'Xbox Series X/S', 'Wii U', 'PlayStation Vita',\n",
       "       'Sega Master System', 'Sega Game Gear', 'PC Engine/TurboGrafx-16',\n",
       "       'Sega Saturn', 'Dreamcast', 'Master System(Brazilian variants)',\n",
       "       'Dendy(Famiclone)', 'Super NES Classic Edition',\n",
       "       'Famicom Disk System', 'NES Classic Edition', 'WonderSwan',\n",
       "       'Sega Pico', 'Color TV-Game', 'Intellivision',\n",
       "       'Mega Drive(Brazilian variants)', 'N-Gage', 'Sega CD',\n",
       "       'ColecoVision', 'Magnavox Odyssey', 'PC Engine CD-ROM',\n",
       "       'Atari 7800', 'Atari Lynx', 'Philips CD-i', 'Telstar',\n",
       "       'Atari 5200'], dtype=object)"
      ]
     },
     "execution_count": 4,
     "metadata": {},
     "output_type": "execute_result"
    }
   ],
   "source": [
    "# Criando esta célula apenas para verificar os valores do Console Name antes da substituição \n",
    "\n",
    "consoles['Console Name'].unique()"
   ]
  },
  {
   "cell_type": "markdown",
   "metadata": {},
   "source": [
    "A planilha tem duas abas, info e consoles "
   ]
  },
  {
   "cell_type": "code",
   "execution_count": 5,
   "metadata": {},
   "outputs": [
    {
     "data": {
      "text/plain": [
       "array(['PLAYSTATION 2', 'NINTENDO DS', 'NINTENDO SWITCH', 'GAME BOY',\n",
       "       'GAME BOY COLOR', 'PLAYSTATION 4', 'PLAYSTATION', 'WII',\n",
       "       'PLAYSTATION 3', 'XBOX 360', 'GAME BOY ADVANCE',\n",
       "       'PLAYSTATION PORTABLE', 'NINTENDO 3DS', 'NES/FAMICOM', 'XBOX ONE',\n",
       "       'SNES/SUPER FAMICOM', 'GAME & WATCH', 'NINTENDO 64',\n",
       "       'SEGA GENESIS/MEGA DRIVE', 'PLAYSTATION 5', 'ATARI 2600', 'XBOX',\n",
       "       'GAMECUBE', 'XBOX SERIES X/S', 'WII U', 'PLAYSTATION VITA',\n",
       "       'SEGA MASTER SYSTEM', 'SEGA GAME GEAR', 'PC ENGINE/TURBOGRAFX-16',\n",
       "       'SEGA SATURN', 'DREAMCAST', 'MASTER SYSTEM(BRAZILIAN VARIANTS)',\n",
       "       'DENDY(FAMICLONE)', 'SUPER NES CLASSIC EDITION',\n",
       "       'FAMICOM DISK SYSTEM', 'NES CLASSIC EDITION', 'WONDERSWAN',\n",
       "       'SEGA PICO', 'COLOR TV-GAME', 'INTELLIVISION',\n",
       "       'MEGA DRIVE(BRAZILIAN VARIANTS)', 'N-GAGE', 'SEGA CD',\n",
       "       'COLECOVISION', 'MAGNAVOX ODYSSEY', 'PC ENGINE CD-ROM',\n",
       "       'ATARI 7800', 'ATARI LYNX', 'PHILIPS CD-I', 'TELSTAR',\n",
       "       'ATARI 5200'], dtype=object)"
      ]
     },
     "execution_count": 5,
     "metadata": {},
     "output_type": "execute_result"
    }
   ],
   "source": [
    "# consoles['Console Name'] = consoles['Console Name'].str.replace('NINTENDO DS','Nitendinho')\n",
    "# consoles['Console Name'] = consoles['Console Name'].str.upper()\n",
    "# # consoles.head()\n",
    "\n",
    "# # Como você quer verificar se os valores da coluna Console Name foram modificados, você pode utilizar o método .unique() e verificar se a substituição foi feita. \n",
    "# # Segue o exemplo:\n",
    "\n",
    "# consoles['Console Name'].unique()"
   ]
  },
  {
   "cell_type": "code",
   "execution_count": 12,
   "metadata": {},
   "outputs": [
    {
     "data": {
      "text/plain": [
       "array(['PLAYSTATION 2', 'Nintendinho', 'NINTENDO SWITCH', 'GAME BOY',\n",
       "       'GAME BOY COLOR', 'PLAYSTATION 4', 'PLAYSTATION', 'WII',\n",
       "       'PLAYSTATION 3', 'XBOX 360', 'GAME BOY ADVANCE',\n",
       "       'PLAYSTATION PORTABLE', 'NINTENDO 3DS', 'NES/FAMICOM', 'XBOX ONE',\n",
       "       'SNES/SUPER FAMICOM', 'GAME & WATCH', 'NINTENDO 64',\n",
       "       'SEGA GENESIS/MEGA DRIVE', 'PLAYSTATION 5', 'ATARI 2600', 'XBOX',\n",
       "       'GAMECUBE', 'XBOX SERIES X/S', 'WII U', 'PLAYSTATION VITA',\n",
       "       'SEGA MASTER SYSTEM', 'SEGA GAME GEAR', 'PC ENGINE/TURBOGRAFX-16',\n",
       "       'SEGA SATURN', 'DREAMCAST', 'MASTER SYSTEM(BRAZILIAN VARIANTS)',\n",
       "       'DENDY(FAMICLONE)', 'SUPER NES CLASSIC EDITION',\n",
       "       'FAMICOM DISK SYSTEM', 'NES CLASSIC EDITION', 'WONDERSWAN',\n",
       "       'SEGA PICO', 'COLOR TV-GAME', 'INTELLIVISION',\n",
       "       'MEGA DRIVE(BRAZILIAN VARIANTS)', 'N-GAGE', 'SEGA CD',\n",
       "       'COLECOVISION', 'MAGNAVOX ODYSSEY', 'PC ENGINE CD-ROM',\n",
       "       'ATARI 7800', 'ATARI LYNX', 'PHILIPS CD-I', 'TELSTAR',\n",
       "       'ATARI 5200'], dtype=object)"
      ]
     },
     "execution_count": 12,
     "metadata": {},
     "output_type": "execute_result"
    }
   ],
   "source": [
    "# Verifique que como você utilizou a função .str.upper() depois da substituição, a palavra NINTENDO DS não foi substituída por Nintendinho no código anterior.\n",
    "# Vamos inverter os códigos para você verificar que se você passar um upper() e depois substituir, irá funcionar. \n",
    "\n",
    "consoles['Console Name'] = consoles['Console Name'].str.upper()\n",
    "consoles['Console Name'] = consoles['Console Name'].str.replace('NINTENDO DS','Nintendinho')\n",
    "\n",
    "consoles['Console Name'].unique()\n",
    "\n",
    "# O segundo elemento NINTENDO DS foi substituído por Nintendinho."
   ]
  },
  {
   "cell_type": "code",
   "execution_count": 13,
   "metadata": {},
   "outputs": [
    {
     "data": {
      "text/plain": [
       "array(['PLAYSTATION 2', 'NINTENDINHO', 'NnitendinhoS', 'GAME BOY',\n",
       "       'GAME BOY COLOR', 'PLAYSTATION 4', 'PLAYSTATION', 'WII',\n",
       "       'PLAYSTATION 3', 'XBOX 360', 'GAME BOY ADVANCE',\n",
       "       'PLAYSTATION PORTABLE', 'NINTENDO 3DS', 'NES/FAMICOM', 'XBOX ONE',\n",
       "       'SNES/SUPER FAMICOM', 'GAME & WATCH', 'NINTENDO 64',\n",
       "       'SEGA GENESIS/MEGA DRIVE', 'PLAYSTATION 5', 'ATARI 2600', 'XBOX',\n",
       "       'GAMECUBE', 'XBOX SERIES X/S', 'WII U', 'PLAYSTATION VITA',\n",
       "       'SEGA MASTER SYSTEM', 'SEGA GAME GEAR', 'PC ENGINE/TURBOGRAFX-16',\n",
       "       'SEGA SATURN', 'DREAMCAST', 'MASTER SYSTEM(BRAZILIAN VARIANTS)',\n",
       "       'DENDY(FAMICLONE)', 'SUPER NES CLASSIC EDITION',\n",
       "       'FAMICOM DISK SYSTEM', 'NES CLASSIC EDITION', 'WONDERSWAN',\n",
       "       'SEGA PICO', 'COLOR TV-GAME', 'INTELLIVISION',\n",
       "       'MEGA DRIVE(BRAZILIAN VARIANTS)', 'N-GAGE', 'SEGA CD',\n",
       "       'COLECOVISION', 'MAGNAVOX ODYSSEY', 'PC ENGINE CD-ROM',\n",
       "       'ATARI 7800', 'ATARI LYNX', 'PHILIPS CD-I', 'TELSTAR',\n",
       "       'ATARI 5200'], dtype=object)"
      ]
     },
     "execution_count": 13,
     "metadata": {},
     "output_type": "execute_result"
    }
   ],
   "source": [
    "# Neste caso não seria obrigatório o uso do str.upper() pois você utilizou no código anterior, mas, seria a mesma lógica. Primeiro transformar e depois substituir, pois vc utilizou o argumento NINTENDO SWITCH em maiúsculo\n",
    "\n",
    "\n",
    "consoles['Console Name'] = consoles['Console Name'].str.upper()\n",
    "consoles['Console Name'] = consoles['Console Name'].str.replace('NINTENDO SWITCH','NnitendinhoS')\n",
    "# consoles['Console Name'] = consoles['Console Name'].str.upper()\n",
    "# consoles.head()\n",
    "\n",
    "consoles['Console Name'].unique()\n",
    "\n",
    "# Verfique que a substituição foi feita corretamente. "
   ]
  },
  {
   "cell_type": "code",
   "execution_count": 15,
   "metadata": {},
   "outputs": [
    {
     "data": {
      "text/plain": [
       "array(['PLAY2', 'NINTENDINHO', 'NNITENDINHOS', 'GAME BOY',\n",
       "       'GAME BOY COLOR', 'PLAY4', 'PLAYSTATION', 'WII', 'PLAYSTATION 3',\n",
       "       'XBOX 360', 'GAME BOY ADVANCE', 'PLAYSTATION PORTABLE',\n",
       "       'NINTENDO 3DS', 'NES/FAMICOM', 'XBOX ONE', 'SNES/SUPER FAMICOM',\n",
       "       'GAME & WATCH', 'NINTENDO 64', 'SEGA GENESIS/MEGA DRIVE',\n",
       "       'PLAYSTATION 5', 'ATARI 2600', 'XBOX', 'GAMECUBE',\n",
       "       'XBOX SERIES X/S', 'WII U', 'PLAYSTATION VITA',\n",
       "       'SEGA MASTER SYSTEM', 'SEGA GAME GEAR', 'PC ENGINE/TURBOGRAFX-16',\n",
       "       'SEGA SATURN', 'DREAMCAST', 'MASTER SYSTEM(BRAZILIAN VARIANTS)',\n",
       "       'DENDY(FAMICLONE)', 'SUPER NES CLASSIC EDITION',\n",
       "       'FAMICOM DISK SYSTEM', 'NES CLASSIC EDITION', 'WONDERSWAN',\n",
       "       'SEGA PICO', 'COLOR TV-GAME', 'INTELLIVISION',\n",
       "       'MEGA DRIVE(BRAZILIAN VARIANTS)', 'N-GAGE', 'SEGA CD',\n",
       "       'COLECOVISION', 'MAGNAVOX ODYSSEY', 'PC ENGINE CD-ROM',\n",
       "       'ATARI 7800', 'ATARI LYNX', 'PHILIPS CD-I', 'TELSTAR',\n",
       "       'ATARI 5200'], dtype=object)"
      ]
     },
     "execution_count": 15,
     "metadata": {},
     "output_type": "execute_result"
    }
   ],
   "source": [
    "# Fazendo as mesmas alterações no código\n",
    "\n",
    "consoles['Console Name'] = consoles['Console Name'].str.upper()\n",
    "\n",
    "\n",
    "consoles['Console Name'] = consoles['Console Name'].str.replace('PLAYSTATION 4','Play4')\n",
    "consoles['Console Name'] = consoles['Console Name'].str.replace('PLAYSTATION 2','Play2')\n",
    "consoles['Console Name'].unique()"
   ]
  },
  {
   "cell_type": "code",
   "execution_count": 16,
   "metadata": {},
   "outputs": [
    {
     "data": {
      "text/html": [
       "<div>\n",
       "<style scoped>\n",
       "    .dataframe tbody tr th:only-of-type {\n",
       "        vertical-align: middle;\n",
       "    }\n",
       "\n",
       "    .dataframe tbody tr th {\n",
       "        vertical-align: top;\n",
       "    }\n",
       "\n",
       "    .dataframe thead th {\n",
       "        text-align: right;\n",
       "    }\n",
       "</style>\n",
       "<table border=\"1\" class=\"dataframe\">\n",
       "  <thead>\n",
       "    <tr style=\"text-align: right;\">\n",
       "      <th></th>\n",
       "      <th>Console Name</th>\n",
       "      <th>Released Year</th>\n",
       "    </tr>\n",
       "  </thead>\n",
       "  <tbody>\n",
       "    <tr>\n",
       "      <th>2</th>\n",
       "      <td>NNITENDINHOS</td>\n",
       "      <td>2017</td>\n",
       "    </tr>\n",
       "    <tr>\n",
       "      <th>5</th>\n",
       "      <td>PLAY4</td>\n",
       "      <td>2013</td>\n",
       "    </tr>\n",
       "    <tr>\n",
       "      <th>12</th>\n",
       "      <td>NINTENDO 3DS</td>\n",
       "      <td>2011</td>\n",
       "    </tr>\n",
       "    <tr>\n",
       "      <th>14</th>\n",
       "      <td>XBOX ONE</td>\n",
       "      <td>2013</td>\n",
       "    </tr>\n",
       "    <tr>\n",
       "      <th>19</th>\n",
       "      <td>PLAYSTATION 5</td>\n",
       "      <td>2020</td>\n",
       "    </tr>\n",
       "    <tr>\n",
       "      <th>23</th>\n",
       "      <td>XBOX SERIES X/S</td>\n",
       "      <td>2020</td>\n",
       "    </tr>\n",
       "    <tr>\n",
       "      <th>24</th>\n",
       "      <td>WII U</td>\n",
       "      <td>2012</td>\n",
       "    </tr>\n",
       "    <tr>\n",
       "      <th>25</th>\n",
       "      <td>PLAYSTATION VITA</td>\n",
       "      <td>2011</td>\n",
       "    </tr>\n",
       "    <tr>\n",
       "      <th>33</th>\n",
       "      <td>SUPER NES CLASSIC EDITION</td>\n",
       "      <td>2017</td>\n",
       "    </tr>\n",
       "    <tr>\n",
       "      <th>35</th>\n",
       "      <td>NES CLASSIC EDITION</td>\n",
       "      <td>2016</td>\n",
       "    </tr>\n",
       "  </tbody>\n",
       "</table>\n",
       "</div>"
      ],
      "text/plain": [
       "                 Console Name  Released Year\n",
       "2                NNITENDINHOS           2017\n",
       "5                       PLAY4           2013\n",
       "12               NINTENDO 3DS           2011\n",
       "14                   XBOX ONE           2013\n",
       "19              PLAYSTATION 5           2020\n",
       "23            XBOX SERIES X/S           2020\n",
       "24                      WII U           2012\n",
       "25           PLAYSTATION VITA           2011\n",
       "33  SUPER NES CLASSIC EDITION           2017\n",
       "35        NES CLASSIC EDITION           2016"
      ]
     },
     "execution_count": 16,
     "metadata": {},
     "output_type": "execute_result"
    }
   ],
   "source": [
    "# consoles.loc[consoles['Released Year']>2010,'Console Name']\n",
    "\n",
    "# Você pode trazer também a coluna Released Year para confirmar que seu filtro funcionou corretamente\n",
    "\n",
    "consoles.loc[consoles['Released Year']>2010,['Console Name', 'Released Year']]"
   ]
  },
  {
   "cell_type": "code",
   "execution_count": 17,
   "metadata": {},
   "outputs": [
    {
     "name": "stdout",
     "output_type": "stream",
     "text": [
      "<class 'pandas.core.frame.DataFrame'>\n",
      "RangeIndex: 51 entries, 0 to 50\n",
      "Data columns (total 7 columns):\n",
      " #   Column                Non-Null Count  Dtype  \n",
      "---  ------                --------------  -----  \n",
      " 0   Console Name          51 non-null     object \n",
      " 1   Type                  51 non-null     object \n",
      " 2   Company               51 non-null     object \n",
      " 3   Released Year         51 non-null     int64  \n",
      " 4   Discontinuation Year  51 non-null     int64  \n",
      " 5   Units sold (million)  51 non-null     float64\n",
      " 6   Remarks               16 non-null     object \n",
      "dtypes: float64(1), int64(2), object(4)\n",
      "memory usage: 2.9+ KB\n"
     ]
    }
   ],
   "source": [
    "consoles.info()"
   ]
  },
  {
   "cell_type": "code",
   "execution_count": 18,
   "metadata": {},
   "outputs": [
    {
     "data": {
      "text/html": [
       "<div>\n",
       "<style scoped>\n",
       "    .dataframe tbody tr th:only-of-type {\n",
       "        vertical-align: middle;\n",
       "    }\n",
       "\n",
       "    .dataframe tbody tr th {\n",
       "        vertical-align: top;\n",
       "    }\n",
       "\n",
       "    .dataframe thead th {\n",
       "        text-align: right;\n",
       "    }\n",
       "</style>\n",
       "<table border=\"1\" class=\"dataframe\">\n",
       "  <thead>\n",
       "    <tr style=\"text-align: right;\">\n",
       "      <th></th>\n",
       "      <th>Released Year</th>\n",
       "      <th>Discontinuation Year</th>\n",
       "      <th>Units sold (million)</th>\n",
       "    </tr>\n",
       "  </thead>\n",
       "  <tbody>\n",
       "    <tr>\n",
       "      <th>count</th>\n",
       "      <td>51.000000</td>\n",
       "      <td>51.000000</td>\n",
       "      <td>51.000000</td>\n",
       "    </tr>\n",
       "    <tr>\n",
       "      <th>mean</th>\n",
       "      <td>1996.058824</td>\n",
       "      <td>1844.803922</td>\n",
       "      <td>35.549412</td>\n",
       "    </tr>\n",
       "    <tr>\n",
       "      <th>std</th>\n",
       "      <td>12.378064</td>\n",
       "      <td>543.657319</td>\n",
       "      <td>42.608844</td>\n",
       "    </tr>\n",
       "    <tr>\n",
       "      <th>min</th>\n",
       "      <td>1976.000000</td>\n",
       "      <td>0.000000</td>\n",
       "      <td>1.000000</td>\n",
       "    </tr>\n",
       "    <tr>\n",
       "      <th>25%</th>\n",
       "      <td>1987.500000</td>\n",
       "      <td>1992.000000</td>\n",
       "      <td>3.200000</td>\n",
       "    </tr>\n",
       "    <tr>\n",
       "      <th>50%</th>\n",
       "      <td>1994.000000</td>\n",
       "      <td>1998.000000</td>\n",
       "      <td>13.560000</td>\n",
       "    </tr>\n",
       "    <tr>\n",
       "      <th>75%</th>\n",
       "      <td>2004.500000</td>\n",
       "      <td>2011.500000</td>\n",
       "      <td>60.205000</td>\n",
       "    </tr>\n",
       "    <tr>\n",
       "      <th>max</th>\n",
       "      <td>2020.000000</td>\n",
       "      <td>2020.000000</td>\n",
       "      <td>155.000000</td>\n",
       "    </tr>\n",
       "  </tbody>\n",
       "</table>\n",
       "</div>"
      ],
      "text/plain": [
       "       Released Year  Discontinuation Year  Units sold (million)\n",
       "count      51.000000             51.000000             51.000000\n",
       "mean     1996.058824           1844.803922             35.549412\n",
       "std        12.378064            543.657319             42.608844\n",
       "min      1976.000000              0.000000              1.000000\n",
       "25%      1987.500000           1992.000000              3.200000\n",
       "50%      1994.000000           1998.000000             13.560000\n",
       "75%      2004.500000           2011.500000             60.205000\n",
       "max      2020.000000           2020.000000            155.000000"
      ]
     },
     "execution_count": 18,
     "metadata": {},
     "output_type": "execute_result"
    }
   ],
   "source": [
    "consoles.describe()"
   ]
  },
  {
   "cell_type": "code",
   "execution_count": 20,
   "metadata": {},
   "outputs": [
    {
     "data": {
      "text/html": [
       "<div>\n",
       "<style scoped>\n",
       "    .dataframe tbody tr th:only-of-type {\n",
       "        vertical-align: middle;\n",
       "    }\n",
       "\n",
       "    .dataframe tbody tr th {\n",
       "        vertical-align: top;\n",
       "    }\n",
       "\n",
       "    .dataframe thead th {\n",
       "        text-align: right;\n",
       "    }\n",
       "</style>\n",
       "<table border=\"1\" class=\"dataframe\">\n",
       "  <thead>\n",
       "    <tr style=\"text-align: right;\">\n",
       "      <th></th>\n",
       "      <th>Console Name</th>\n",
       "      <th>Released Year</th>\n",
       "      <th>Discontinuation Year</th>\n",
       "      <th>descontinuado</th>\n",
       "    </tr>\n",
       "  </thead>\n",
       "  <tbody>\n",
       "    <tr>\n",
       "      <th>33</th>\n",
       "      <td>SUPER NES CLASSIC EDITION</td>\n",
       "      <td>2017</td>\n",
       "      <td>2018</td>\n",
       "      <td>1</td>\n",
       "    </tr>\n",
       "  </tbody>\n",
       "</table>\n",
       "</div>"
      ],
      "text/plain": [
       "                 Console Name  Released Year  Discontinuation Year  \\\n",
       "33  SUPER NES CLASSIC EDITION           2017                  2018   \n",
       "\n",
       "    descontinuado  \n",
       "33              1  "
      ]
     },
     "execution_count": 20,
     "metadata": {},
     "output_type": "execute_result"
    }
   ],
   "source": [
    "consoles['descontinuado'] = consoles['Discontinuation Year'] - consoles['Released Year']\n",
    "\n",
    "consoles.loc[(consoles['descontinuado']<2)&(consoles['descontinuado']>0),\n",
    "             ['Console Name','Released Year','Discontinuation Year', 'descontinuado']]\n",
    "\n",
    "# Regiane, você aplicou a lógica corretamente. Apenas alterei pois o excercício falou para descontinuação com menos de 2 anos do lançamento. Daí substituí o <= por <"
   ]
  },
  {
   "cell_type": "code",
   "execution_count": null,
   "metadata": {},
   "outputs": [],
   "source": []
  }
 ],
 "metadata": {
  "kernelspec": {
   "display_name": "Python 3",
   "language": "python",
   "name": "python3"
  },
  "language_info": {
   "codemirror_mode": {
    "name": "ipython",
    "version": 3
   },
   "file_extension": ".py",
   "mimetype": "text/x-python",
   "name": "python",
   "nbconvert_exporter": "python",
   "pygments_lexer": "ipython3",
   "version": "3.10.12"
  },
  "orig_nbformat": 4
 },
 "nbformat": 4,
 "nbformat_minor": 2
}
